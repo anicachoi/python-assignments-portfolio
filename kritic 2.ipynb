{
 "cells": [
  {
   "cell_type": "code",
   "execution_count": 1,
   "id": "736bf01c-3380-4a96-b26c-6bc6154c2831",
   "metadata": {},
   "outputs": [
    {
     "name": "stdout",
     "output_type": "stream",
     "text": [
      "root at 0\n"
     ]
    }
   ],
   "source": [
    "import math\n",
    " \n",
    "def t1(x):\n",
    "    return math.exp(x) + math.log(x)\n",
    " \n",
    "def t2(x):\n",
    "    return math.atan(x) - x**2\n",
    " \n",
    "def t3(x):\n",
    "    return math.sin(x) / math.log(x)\n",
    " \n",
    "def t4(x):\n",
    "    return math.log(math.cos(x))\n",
    " \n",
    "def find_interval(a,b,mid,f):\n",
    "    fa = f(a)\n",
    "    fb = f(b)\n",
    "    f_mid = f(mid)\n",
    "    if fa < 0 and f_mid > 0 or fa > 0 and f_mid < 0: # if the first endpoint is -ve and second is +ve\n",
    "        # root in interval 1\n",
    "        return \"1\"\n",
    "    elif f_mid < 0 and fb > 0 or f_mid > 0 and fb < 0:\n",
    "        # root in interval 2\n",
    "        return \"2\"\n",
    "    elif fa == 0:\n",
    "        return \"a\"\n",
    "    elif fb == 0:\n",
    "        return \"b\"\n",
    "    elif f_mid == 0:\n",
    "        return \"m\"\n",
    "    else:\n",
    "        return \"na\"\n",
    " \n",
    "def roots(f,a,b):\n",
    "    for n in range(10):\n",
    "        mid = (a+b)/2\n",
    "        i = find_interval(a,b,mid,f)\n",
    "        if i == \"1\":\n",
    "            b = mid\n",
    "        elif i == \"2\":\n",
    "            a = mid\n",
    "        elif i == \"a\":\n",
    "            return f\"root at {a}\"\n",
    "        elif i == \"b\":\n",
    "            return f\"root at {b}\"\n",
    "        elif i == \"m\":\n",
    "            return f\"root at {mid}\"\n",
    "        elif i== \"na\":\n",
    "            return \"the bisection method does not work\"\n",
    "        print(a,b)\n",
    "    return (a+b)/2\n",
    " \n",
    "print(roots(t2, 0, 2)) # this is where u put the test values in\n",
    " \n",
    " \n"
   ]
  }
 ],
 "metadata": {
  "kernelspec": {
   "display_name": "Python 3 (ipykernel)",
   "language": "python",
   "name": "python3"
  },
  "language_info": {
   "codemirror_mode": {
    "name": "ipython",
    "version": 3
   },
   "file_extension": ".py",
   "mimetype": "text/x-python",
   "name": "python",
   "nbconvert_exporter": "python",
   "pygments_lexer": "ipython3",
   "version": "3.11.9"
  }
 },
 "nbformat": 4,
 "nbformat_minor": 5
}
