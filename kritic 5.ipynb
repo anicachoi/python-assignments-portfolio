{
 "cells": [
  {
   "cell_type": "code",
   "execution_count": 13,
   "id": "f0eec4b1-4672-4f0f-bd26-d5bdd8cea4a5",
   "metadata": {},
   "outputs": [
    {
     "name": "stdin",
     "output_type": "stream",
     "text": [
      "Enter the x-coordinate of the seed point:  0.23\n",
      "Enter the y-coordinate of the seed point:  0.23\n"
     ]
    },
    {
     "name": "stdout",
     "output_type": "stream",
     "text": [
      "Valid seed point entered.\n"
     ]
    },
    {
     "name": "stdin",
     "output_type": "stream",
     "text": [
      "Enter the number of steps:  10\n"
     ]
    },
    {
     "name": "stdout",
     "output_type": "stream",
     "text": [
      "Number of steps set to 10.\n"
     ]
    },
    {
     "data": {
      "image/png": "[encoded data removed]",
      "text/plain": [
       "<Figure size 640x480 with 1 Axes>"
      ]
     },
     "metadata": {},
     "output_type": "display_data"
    },
    {
     "name": "stdout",
     "output_type": "stream",
     "text": [
      "[(0.23, 0.23), (0.615, 0.115), (0.8075, 0.0575), (0.40375, 0.02875), (0.701875, 0.014375), (0.8509375, 0.0071875), (0.9254687500000001, 0.00359375), (0.712734375, 0.43479687499999997), (0.8563671875000001, 0.21739843749999999), (0.42818359375000004, 0.10869921874999999), (0.464091796875, 0.487349609375)]\n"
     ]
    }
   ],
   "source": [
    "import matplotlib.pyplot as plt\n",
    "import random\n",
    "import pandas as pd  # to deal with data\n",
    "  # TODO: Implement the Chaos Game algorithm\n",
    "  # 1. Initialize a random seed point within the triangle\n",
    "  # 2. Roll the die and move the point half the distance\n",
    "# to the chosen vertex.\n",
    "# 3. Repeat and collect the points in a list\n",
    "# (Remember to start plotting points after a dozen rolls)\n",
    "# Initialize the vertices of the triangle and the plot # Vertices of an equilateral triangle\n",
    "vertices = [(0, 0), (1, 0), (0.5, 0.866)]\n",
    "# A function to check whether point (x, y)\n",
    "# lies inside the triangle formed by\n",
    "# A0, 0), (1, 0) and (0.5, 0.866)\n",
    "def isInside(x1, y1, x2, y2, x3, y3, x, y): \n",
    "    def area(x1, y1, x2, y2, x3, y3):\n",
    "        return abs((x1*(y2 - y3) + x2*(y3 - y1) + x3*(y1 - y2)) / 2.0)\n",
    "    A = area(x1, y1, x2, y2, x3, y3)\n",
    "    A1 = area(x, y, x2, y2, x3, y3)\n",
    "    A2 = area(x1, y1, x, y, x3, y3)\n",
    "    A3 = area(x1, y1, x2, y2, x, y)\n",
    "    return A == A1 + A2 + A3\n",
    "# Prompting the user for a seed point\n",
    "while True: \n",
    "    try:\n",
    "        seed_x = float(input(\"Enter the x-coordinate of the seed point: \")) \n",
    "        seed_y = float(input(\"Enter the y-coordinate of the seed point: \")) \n",
    "        if isInside(0, 0, 1, 0, 0.5, 0.866, seed_x, seed_y):\n",
    "            print(\"Valid seed point entered.\")\n",
    "            break \n",
    "        else:\n",
    "            print(\"The point is not inside the triangle. Please try again.\") \n",
    "    except ValueError:\n",
    "            print(\"Invalid input. Please enter numerical values.\") #This is your starting point\n",
    "seed=(seed_x, seed_y)\n",
    "#Initialize a list where you will store your points (x_t,y_t), # starting with your seed\n",
    "points = [seed]\n",
    "# Prompting the user for the number of steps\n",
    "while True: \n",
    "    try:\n",
    "        num_steps = int(input(\"Enter the number of steps: \")) \n",
    "        if num_steps > 0:\n",
    "            print(f\"Number of steps set to {num_steps}.\")\n",
    "            break \n",
    "        else:\n",
    "            print(\"Please enter a positive integer.\") \n",
    "    except ValueError:\n",
    "        print(\"Invalid input. Please enter a positive integer.\")\n",
    "for i in range(num_steps):\n",
    "                #choose a random vertex to move toward from the list 'vertices'\n",
    "                # You can use the python code random.randint(0, 2) to\n",
    "                # choose a random integer between 0 and 2. Then you can use\n",
    "                # that random integer as the index for a vertex.\n",
    "                # your code should look like \"next_vertex = vertex[ a random choice of index]\" next_vertex=....\n",
    "                #create the next point by moving from the last point, i.e. points[-1], to\n",
    "                #the midpoint of the line formed by that point and the random vertex\n",
    "                #you just chose.\n",
    "                # You may have to look up the formula for the midpoint of a line in the plane.\n",
    "    next_point= random.randint(0, 2)\n",
    "    next_vertex = vertices[next_point]\n",
    "                \n",
    "                # now we find the midpoint between the last seed point and the vertex\n",
    "                \n",
    "    last_point = points[len(points) - 1] \n",
    "                \n",
    "                # find the midpoint\n",
    "                \n",
    "    midpoint_x = (last_point[0] + next_vertex[0])/2\n",
    "    midpoint_y = (last_point[1] + next_vertex[1])/2\n",
    "    midpoint = (midpoint_x, midpoint_y)\n",
    "            #add the new point to your list of points\n",
    "    points.append(midpoint)\n",
    "    # Function to plot the solution set\n",
    "def plot_solution(points):\n",
    "    plt.scatter([p[0] for p in points], [p[1] for p in points], s=0.5, color='b') \n",
    "    plt.show()\n",
    "    #plot your points\n",
    "plot_solution(points)\n",
    "print(points)"
   ]
  },
  {
   "cell_type": "code",
   "execution_count": null,
   "id": "b98d4a67-9822-494d-a658-564e65baab8c",
   "metadata": {},
   "outputs": [],
   "source": []
  }
 ],
 "metadata": {
  "kernelspec": {
   "display_name": "Python 3 (ipykernel)",
   "language": "python",
   "name": "python3"
  },
  "language_info": {
   "codemirror_mode": {
    "name": "ipython",
    "version": 3
   },
   "file_extension": ".py",
   "mimetype": "text/x-python",
   "name": "python",
   "nbconvert_exporter": "python",
   "pygments_lexer": "ipython3",
   "version": "3.12.8"
  }
 },
 "nbformat": 4,
 "nbformat_minor": 5
}
